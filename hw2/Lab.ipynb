{
 "cells": [
  {
   "cell_type": "code",
   "execution_count": 9,
   "id": "e5a67d4a",
   "metadata": {},
   "outputs": [],
   "source": [
    "import numpy as np\n",
    "import matplotlib.pyplot as plt"
   ]
  },
  {
   "cell_type": "code",
   "execution_count": 10,
   "id": "f1a96784",
   "metadata": {},
   "outputs": [],
   "source": [
    "%matplotlib inline\n",
    "plt.rcParams[\"figure.figsize\"] = (15, 12)"
   ]
  },
  {
   "cell_type": "code",
   "execution_count": 11,
   "id": "09fd50f2",
   "metadata": {},
   "outputs": [],
   "source": [
    "!source $HOME/materiapps/espresso/espressovars.sh"
   ]
  },
  {
   "cell_type": "markdown",
   "id": "eb1b658a",
   "metadata": {},
   "source": [
    "# Определение параметров решетки ecutwfc, ecutrho, K_POINTS"
   ]
  },
  {
   "cell_type": "code",
   "execution_count": 4,
   "id": "a5d507d5",
   "metadata": {},
   "outputs": [],
   "source": [
    "def gen_struct(ecutwfc, k):\n",
    "    struct = f\"\"\"\n",
    "&control\n",
    "  calculation = 'scf'\n",
    "  prefix = 'base'\n",
    "  pseudo_dir = 'sssp'\n",
    "  outdir = 'out'\n",
    "/\n",
    "&system\n",
    "  ibrav = 2\n",
    "  A = 5.58\n",
    "  nat = 1\n",
    "  ntyp = 1\n",
    "  ecutwfc = {ecutwfc}\n",
    "  ecutrho = {ecutwfc * 8}\n",
    "  occupations = 'smearing'\n",
    "  smearing = 'cold'\n",
    "  degauss = 0.02\n",
    "/\n",
    "&electrons\n",
    "/\n",
    "ATOMIC_SPECIES\n",
    "  Ca 40.078 Ca_pbe_v1.uspp.F.UPF\n",
    "ATOMIC_POSITIONS crystal\n",
    "  Ca 0.0 0.0 0.0\n",
    "K_POINTS automatic\n",
    "  {k} {k} {k} 0 0 0\n",
    "\"\"\"\n",
    "    with open(f\"IN/{ecutwfc}_{k}.txt\", \"w\") as f:\n",
    "        f.write(struct)"
   ]
  },
  {
   "cell_type": "code",
   "execution_count": 5,
   "id": "8100fab3",
   "metadata": {},
   "outputs": [],
   "source": [
    "# Generate files\n",
    "file_names = []\n",
    "for i in range(30, 100, 10):\n",
    "    for j in range(1, 11):\n",
    "        gen_struct(i, j)\n",
    "        file_names.append(f\"IN/{i}_{j}.txt\")"
   ]
  },
  {
   "cell_type": "code",
   "execution_count": null,
   "id": "5557fe1f",
   "metadata": {
    "scrolled": true
   },
   "outputs": [],
   "source": [
    "for item in file_names:\n",
    "    !pw.x -in {item} > RES/{item}"
   ]
  },
  {
   "cell_type": "code",
   "execution_count": 7,
   "id": "62fd91db",
   "metadata": {},
   "outputs": [],
   "source": [
    "file_names = !ls -v IN/*.txt"
   ]
  },
  {
   "cell_type": "code",
   "execution_count": null,
   "id": "d1c28770",
   "metadata": {},
   "outputs": [],
   "source": [
    "fig = plt.figure()\n",
    "plt.scatter(ecuts, es)\n",
    "plt.show()"
   ]
  },
  {
   "cell_type": "code",
   "execution_count": 9,
   "id": "a7c790e8",
   "metadata": {},
   "outputs": [],
   "source": [
    "res = {}\n",
    "for i in range(1, 11):\n",
    "    for j in range(30, 100, 10):\n",
    "            local_result = !cat Res/IN/{j}_{i}.txt\n",
    "            nrg = float([line for line in local_result if line.startswith('!')][0].split()[4])\n",
    "            res[(i, j)] = nrg"
   ]
  },
  {
   "cell_type": "code",
   "execution_count": 10,
   "id": "d3cdece6",
   "metadata": {},
   "outputs": [
    {
     "data": {
      "text/plain": [
       "{(1, 30): -75.29173152,\n",
       " (1, 40): -75.29178742,\n",
       " (1, 50): -75.29189151,\n",
       " (1, 60): -75.29191274,\n",
       " (1, 70): -75.29194079,\n",
       " (1, 80): -75.2919665,\n",
       " (1, 90): -75.29197705,\n",
       " (2, 30): -74.89752807,\n",
       " (2, 40): -74.89760706,\n",
       " (2, 50): -74.89771272,\n",
       " (2, 60): -74.89774039,\n",
       " (2, 70): -74.897774,\n",
       " (2, 80): -74.89779748,\n",
       " (2, 90): -74.89780642,\n",
       " (3, 30): -74.92052516,\n",
       " (3, 40): -74.92060389,\n",
       " (3, 50): -74.9207071,\n",
       " (3, 60): -74.92073793,\n",
       " (3, 70): -74.92077083,\n",
       " (3, 80): -74.92079673,\n",
       " (3, 90): -74.92080569,\n",
       " (4, 30): -74.92990713,\n",
       " (4, 40): -74.92998921,\n",
       " (4, 50): -74.93009117,\n",
       " (4, 60): -74.93012212,\n",
       " (4, 70): -74.93015384,\n",
       " (4, 80): -74.93018011,\n",
       " (4, 90): -74.93018846,\n",
       " (5, 30): -74.92457698,\n",
       " (5, 40): -74.92465747,\n",
       " (5, 50): -74.92475883,\n",
       " (5, 60): -74.92479012,\n",
       " (5, 70): -74.92482216,\n",
       " (5, 80): -74.92484811,\n",
       " (5, 90): -74.92485669,\n",
       " (6, 30): -74.92380652,\n",
       " (6, 40): -74.9238876,\n",
       " (6, 50): -74.92399034,\n",
       " (6, 60): -74.92402111,\n",
       " (6, 70): -74.92405377,\n",
       " (6, 80): -74.92407942,\n",
       " (6, 90): -74.92408813,\n",
       " (7, 30): -74.92533107,\n",
       " (7, 40): -74.9254111,\n",
       " (7, 50): -74.92551341,\n",
       " (7, 60): -74.92554401,\n",
       " (7, 70): -74.92557659,\n",
       " (7, 80): -74.92560213,\n",
       " (7, 90): -74.92561094,\n",
       " (8, 30): -74.9247889,\n",
       " (8, 40): -74.92486953,\n",
       " (8, 50): -74.92497162,\n",
       " (8, 60): -74.9250024,\n",
       " (8, 70): -74.92503475,\n",
       " (8, 80): -74.92506049,\n",
       " (8, 90): -74.92506916,\n",
       " (9, 30): -74.92478115,\n",
       " (9, 40): -74.92486165,\n",
       " (9, 50): -74.92496378,\n",
       " (9, 60): -74.92499463,\n",
       " (9, 70): -74.92502703,\n",
       " (9, 80): -74.92505279,\n",
       " (9, 90): -74.92506158,\n",
       " (10, 30): -74.92502271,\n",
       " (10, 40): -74.92510353,\n",
       " (10, 50): -74.92520549,\n",
       " (10, 60): -74.92523647,\n",
       " (10, 70): -74.92526885,\n",
       " (10, 80): -74.92529463,\n",
       " (10, 90): -74.92530332}"
      ]
     },
     "execution_count": 10,
     "metadata": {},
     "output_type": "execute_result"
    }
   ],
   "source": [
    "res"
   ]
  },
  {
   "cell_type": "code",
   "execution_count": null,
   "id": "9613c0d2",
   "metadata": {},
   "outputs": [],
   "source": [
    "# ecutwfc = 40\n",
    "# ecutrho = 320\n",
    "# k = 7"
   ]
  },
  {
   "cell_type": "markdown",
   "id": "d1b99a82",
   "metadata": {},
   "source": [
    "# Постоянная решетки"
   ]
  },
  {
   "cell_type": "code",
   "execution_count": 12,
   "id": "771418c9",
   "metadata": {},
   "outputs": [],
   "source": [
    "struct = \"\"\"\n",
    "&control\n",
    "  calculation = 'vc-relax'\n",
    "  prefix = 'base'\n",
    "  pseudo_dir = 'sssp'\n",
    "  outdir = 'out'\n",
    "/\n",
    "&system\n",
    "  ibrav = 2\n",
    "  A = 5.58\n",
    "  nat = 1\n",
    "  ntyp = 1\n",
    "  ecutwfc = 80\n",
    "  ecutrho = 640\n",
    "  occupations = 'smearing'\n",
    "  smearing = 'cold'\n",
    "  degauss = 0.02\n",
    "/\n",
    "&electrons\n",
    "  conv_thr = 1.d-8\n",
    "/\n",
    "&ions\n",
    "/\n",
    "&cell\n",
    "/\n",
    "ATOMIC_SPECIES\n",
    "  Ca 40.078 Ca_pbe_v1.uspp.F.UPF\n",
    "ATOMIC_POSITIONS crystal\n",
    "  Ca 0.0 0.0 0.0\n",
    "K_POINTS automatic\n",
    "  9 9 9 0 0 0\n",
    "\"\"\"\n",
    "with open(f\"relax.txt\", \"w\") as f:\n",
    "    f.write(struct)"
   ]
  },
  {
   "cell_type": "code",
   "execution_count": 13,
   "id": "9f96f213",
   "metadata": {},
   "outputs": [
    {
     "name": "stdout",
     "output_type": "stream",
     "text": [
      "\r\n",
      "&control\r\n",
      "  calculation = 'vc-relax'\r\n",
      "  prefix = 'base'\r\n",
      "  pseudo_dir = 'sssp'\r\n",
      "  outdir = 'out'\r\n",
      "/\r\n",
      "&system\r\n",
      "  ibrav = 2\r\n",
      "  A = 5.58\r\n",
      "  nat = 1\r\n",
      "  ntyp = 1\r\n",
      "  ecutwfc = 80\r\n",
      "  ecutrho = 640\r\n",
      "  occupations = 'smearing'\r\n",
      "  smearing = 'cold'\r\n",
      "  degauss = 0.02\r\n",
      "/\r\n",
      "&electrons\r\n",
      "  conv_thr = 1.d-8\r\n",
      "/\r\n",
      "&ions\r\n",
      "/\r\n",
      "&cell\r\n",
      "/\r\n",
      "ATOMIC_SPECIES\r\n",
      "  Ca 40.078 Ca_pbe_v1.uspp.F.UPF\r\n",
      "ATOMIC_POSITIONS crystal\r\n",
      "  Ca 0.0 0.0 0.0\r\n",
      "K_POINTS automatic\r\n",
      "  9 9 9 0 0 0\r\n"
     ]
    }
   ],
   "source": [
    "!cat relax.txt"
   ]
  },
  {
   "cell_type": "code",
   "execution_count": 14,
   "id": "62daddec",
   "metadata": {},
   "outputs": [
    {
     "name": "stdout",
     "output_type": "stream",
     "text": [
      "Note: The following floating-point exceptions are signalling: IEEE_INVALID_FLAG IEEE_DIVIDE_BY_ZERO IEEE_OVERFLOW_FLAG IEEE_UNDERFLOW_FLAG\r\n"
     ]
    }
   ],
   "source": [
    "!pw.x -in relax.txt > relax.out"
   ]
  },
  {
   "cell_type": "code",
   "execution_count": 15,
   "id": "28c09402",
   "metadata": {},
   "outputs": [],
   "source": [
    "result_relax = !cat relax.out\n",
    "energy_lines_relax = [line for line in result_relax if line.startswith('!')]\n",
    "total_energy_relax = float(energy_lines_relax[-1].split()[4])\n",
    "last = 0\n",
    "for q, line in enumerate(result_relax):\n",
    "    if line.startswith('CELL_PARAMETERS'):\n",
    "        last = q\n",
    "mult = float(result_relax[last + 1].split()[2]) * 2"
   ]
  },
  {
   "cell_type": "code",
   "execution_count": 16,
   "id": "e73e66bb",
   "metadata": {},
   "outputs": [
    {
     "name": "stdout",
     "output_type": "stream",
     "text": [
      "0.989890876\n",
      "5.52359108808\n"
     ]
    }
   ],
   "source": [
    "print(mult)\n",
    "print(mult * 5.58)"
   ]
  },
  {
   "cell_type": "code",
   "execution_count": 17,
   "id": "0f7fb9d4",
   "metadata": {},
   "outputs": [],
   "source": [
    "A = mult * 5.58"
   ]
  },
  {
   "cell_type": "markdown",
   "id": "100c9620",
   "metadata": {},
   "source": [
    "# Изолированный атом"
   ]
  },
  {
   "cell_type": "code",
   "execution_count": 18,
   "id": "4aa5d171",
   "metadata": {},
   "outputs": [],
   "source": [
    "struct = \"\"\"\n",
    "&control\n",
    "  calculation = 'scf'\n",
    "  prefix = 'single'\n",
    "  pseudo_dir = 'sssp'\n",
    "  outdir = 'out'\n",
    "/\n",
    "&system\n",
    "  ibrav = 1\n",
    "  A = 17\n",
    "  nat = 1\n",
    "  ntyp = 1\n",
    "  ecutwfc = 80\n",
    "  ecutrho = 640\n",
    "  occupations = 'fixed'\n",
    "  nspin = 2\n",
    "  tot_magnetization = 0\n",
    "/\n",
    "&electrons\n",
    "/\n",
    "ATOMIC_SPECIES\n",
    "  Ca 40.078 Ca_pbe_v1.uspp.F.UPF\n",
    "ATOMIC_POSITIONS crystal\n",
    "  Ca 0.0 0.0 0.0\n",
    "K_POINTS gamma\n",
    "\"\"\"\n",
    "with open(f\"single.txt\", \"w\") as f:\n",
    "    f.write(struct)"
   ]
  },
  {
   "cell_type": "code",
   "execution_count": 19,
   "id": "d6133d25",
   "metadata": {},
   "outputs": [
    {
     "name": "stdout",
     "output_type": "stream",
     "text": [
      "['!    total energy              =     -74.78489383 Ry']\n",
      "-74.78489383\n",
      "-1.9089984885038827 -74.92520258 -74.78489383\n"
     ]
    }
   ],
   "source": [
    "result_single = !pw.x -in single.txt\n",
    "energy_lines_single = [line for line in result_single if line.startswith('!')]\n",
    "print(energy_lines_single)\n",
    "total_energy_single = float(energy_lines_single[0].split()[4])\n",
    "print(total_energy_single)\n",
    "print((total_energy_relax - total_energy_single) * 13.6056980659, total_energy_relax, total_energy_single)"
   ]
  },
  {
   "cell_type": "code",
   "execution_count": 19,
   "id": "94cbb868",
   "metadata": {},
   "outputs": [],
   "source": [
    "# 1.84"
   ]
  },
  {
   "cell_type": "markdown",
   "id": "21e06335",
   "metadata": {},
   "source": [
    "# Уравнение Берча-Мурнагана"
   ]
  },
  {
   "cell_type": "code",
   "execution_count": 20,
   "id": "460a9def",
   "metadata": {},
   "outputs": [],
   "source": [
    "import scipy.optimize as opt"
   ]
  },
  {
   "cell_type": "code",
   "execution_count": 21,
   "id": "7c80dbe3",
   "metadata": {},
   "outputs": [],
   "source": [
    "def eos(v, a, b, c):\n",
    "    return a + b * v + c * v**2"
   ]
  },
  {
   "cell_type": "code",
   "execution_count": 38,
   "id": "b3e51a24",
   "metadata": {},
   "outputs": [],
   "source": [
    "def gen_struct(A, b):\n",
    "    struct = f\"\"\"\n",
    "&control\n",
    "  calculation = 'scf'\n",
    "  prefix = 'base'\n",
    "  pseudo_dir = 'sssp'\n",
    "  outdir = 'out'\n",
    "/\n",
    "&system\n",
    "  ibrav = 2\n",
    "  A = {A}\n",
    "  nat = 1\n",
    "  ntyp = 1\n",
    "  ecutwfc = 40\n",
    "  ecutrho = 320\n",
    "  occupations = 'smearing'\n",
    "  smearing = 'cold'\n",
    "  degauss = 0.02\n",
    "/\n",
    "&electrons\n",
    "  conv_thr = 1.d-8\n",
    "/\n",
    "&ions\n",
    "/\n",
    "&cell\n",
    "/\n",
    "ATOMIC_SPECIES\n",
    "  Ca 40.078 Ca_pbe_v1.uspp.F.UPF\n",
    "ATOMIC_POSITIONS crystal\n",
    "  Ca 0.0 0.0 0.0\n",
    "K_POINTS automatic\n",
    "  7 7 7 0 0 0\n",
    "\"\"\"\n",
    "    with open(f\"base_{b}.txt\", \"w\") as f:\n",
    "        f.write(struct)"
   ]
  },
  {
   "cell_type": "code",
   "execution_count": 39,
   "id": "d134b3b1",
   "metadata": {},
   "outputs": [],
   "source": [
    "percents = []\n",
    "As = []\n",
    "for i in np.linspace(0.95, 1.05, 11):\n",
    "    percents.append(i)\n",
    "    As.append(A * i)"
   ]
  },
  {
   "cell_type": "code",
   "execution_count": 40,
   "id": "500f0ae5",
   "metadata": {},
   "outputs": [
    {
     "name": "stdout",
     "output_type": "stream",
     "text": [
      "5.2462\n",
      "5.3015\n",
      "5.3567\n",
      "5.4119\n",
      "5.4671\n",
      "5.5224\n",
      "5.5776\n",
      "5.6328\n",
      "5.688\n",
      "5.7433\n",
      "5.7985\n"
     ]
    }
   ],
   "source": [
    "for i in As:\n",
    "    ri = round(i, 4)\n",
    "    print(ri)\n",
    "    gen_struct(ri, ri)"
   ]
  },
  {
   "cell_type": "code",
   "execution_count": 41,
   "id": "2dda8333",
   "metadata": {},
   "outputs": [],
   "source": [
    "volumes = []"
   ]
  },
  {
   "cell_type": "code",
   "execution_count": 42,
   "id": "48decdc0",
   "metadata": {},
   "outputs": [],
   "source": [
    "energies = []"
   ]
  },
  {
   "cell_type": "code",
   "execution_count": 43,
   "id": "e092c0af",
   "metadata": {},
   "outputs": [],
   "source": [
    "for i in As:\n",
    "    ri = round(i, 4)\n",
    "    local_result = !pw.x -in base_{ri}.txt\n",
    "    nrg = float([line for line in local_result if line.startswith('!')][0].split()[4])\n",
    "    energies.append(nrg * 13.6056980659)\n",
    "    volumes.append(ri * ri * ri / 4)"
   ]
  },
  {
   "cell_type": "code",
   "execution_count": 44,
   "id": "28d12740",
   "metadata": {},
   "outputs": [],
   "source": [
    "def Birch_Murnaghan(V, E_0, V_0, B_0, B_1):\n",
    "    return E_0 + 9 * V_0 * B_0 / 16 * (((np.abs(V_0 / V)) ** (2 / 3) - 1) ** 3 * B_1 + ((np.abs(V_0 / V)) ** (2 / 3) - 1) ** 2 * (6 - 4 * ((np.abs(V_0 / V)) ** (2 / 3))))"
   ]
  },
  {
   "cell_type": "code",
   "execution_count": 45,
   "id": "2b620aba",
   "metadata": {
    "scrolled": true
   },
   "outputs": [
    {
     "data": {
      "text/plain": [
       "[36.097284968782,\n",
       " 37.25086019459375,\n",
       " 38.42660200881575,\n",
       " 39.62682694178975,\n",
       " 40.85178728842776,\n",
       " 42.104022569856006,\n",
       " 43.37925658214401,\n",
       " 44.67998334988799,\n",
       " 46.006455167999995,\n",
       " 47.361398200434245,\n",
       " 48.74016478665625]"
      ]
     },
     "execution_count": 45,
     "metadata": {},
     "output_type": "execute_result"
    }
   ],
   "source": [
    "volumes"
   ]
  },
  {
   "cell_type": "code",
   "execution_count": 46,
   "id": "8fe00bd1",
   "metadata": {},
   "outputs": [
    {
     "data": {
      "text/plain": [
       "[-1019.3561032303185,\n",
       " -1019.378011397458,\n",
       " -1019.394458781622,\n",
       " -1019.405826750527,\n",
       " -1019.4124490519465,\n",
       " -1019.4146371203096,\n",
       " -1019.4126949069107,\n",
       " -1019.4069158866572,\n",
       " -1019.3975781600177,\n",
       " -1019.3849105748333,\n",
       " -1019.369211231949]"
      ]
     },
     "execution_count": 46,
     "metadata": {},
     "output_type": "execute_result"
    }
   ],
   "source": [
    "energies"
   ]
  },
  {
   "cell_type": "code",
   "execution_count": 47,
   "id": "8eea2733",
   "metadata": {},
   "outputs": [],
   "source": [
    "fit, cov = opt.curve_fit(Birch_Murnaghan, volumes, energies, bounds=([-1020, 36, -np.inf, -np.inf],[-1019, 49, np.inf, np.inf]))"
   ]
  },
  {
   "cell_type": "code",
   "execution_count": 55,
   "id": "88406827",
   "metadata": {},
   "outputs": [
    {
     "name": "stdout",
     "output_type": "stream",
     "text": [
      "E0:\t-1019.4146\n",
      "V0:\t42.1265\n",
      "B0:\t17.3984\n",
      "B:\t542.5846\n"
     ]
    }
   ],
   "source": [
    "print(f\"E0:\\t%.4f\" % fit[0])\n",
    "print(f\"V0:\\t%.4f\" % fit[1])\n",
    "print(f\"B0:\\t%.4f\" % (fit[2] * 160.2))\n",
    "print(f\"B:\\t%.4f\" % (fit[3] * 160.2))"
   ]
  },
  {
   "cell_type": "code",
   "execution_count": 34,
   "id": "d0541510",
   "metadata": {},
   "outputs": [
    {
     "data": {
      "image/png": "[encoded data removed]",
      "text/plain": [
       "<Figure size 1080x864 with 1 Axes>"
      ]
     },
     "metadata": {
      "needs_background": "light"
     },
     "output_type": "display_data"
    }
   ],
   "source": [
    "plt.plot(volumes, energies, 'bo', markersize = 15)\n",
    "xsBM = np.linspace(volumes[0], volumes[-1], 100)\n",
    "plt.plot(xsBM, Birch_Murnaghan(xsBM, *fit), 'r',linewidth = 4)\n",
    "plt.xlabel('Volume')\n",
    "plt.ylabel('Energy')\n",
    "plt.grid()\n",
    "plt.show()"
   ]
  }
 ],
 "metadata": {
  "kernelspec": {
   "display_name": "Python 3 (ipykernel)",
   "language": "python",
   "name": "python3"
  },
  "language_info": {
   "codemirror_mode": {
    "name": "ipython",
    "version": 3
   },
   "file_extension": ".py",
   "mimetype": "text/x-python",
   "name": "python",
   "nbconvert_exporter": "python",
   "pygments_lexer": "ipython3",
   "version": "3.9.7"
  }
 },
 "nbformat": 4,
 "nbformat_minor": 5
}
