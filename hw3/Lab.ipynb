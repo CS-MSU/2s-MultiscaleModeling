{
 "cells": [
  {
   "cell_type": "code",
   "execution_count": 1,
   "id": "a75b02b5",
   "metadata": {},
   "outputs": [],
   "source": [
    "import numpy as np"
   ]
  },
  {
   "cell_type": "code",
   "execution_count": 2,
   "id": "ba0c13be",
   "metadata": {},
   "outputs": [],
   "source": [
    "ALPHA = 0.01\n",
    "A = 5.52236653476\n",
    "volume = A * A * A / 4"
   ]
  },
  {
   "cell_type": "code",
   "execution_count": 3,
   "id": "adba19f0",
   "metadata": {},
   "outputs": [],
   "source": [
    "basis = np.array([\n",
    "    [0. , 0.5, 0.5], \n",
    "    [0.5, 0. , 0.5], \n",
    "    [0.5, 0.5, 0.]\n",
    "])"
   ]
  },
  {
   "cell_type": "markdown",
   "id": "0e4a0fab",
   "metadata": {},
   "source": [
    "$D_{B}(ALPHA)$"
   ]
  },
  {
   "cell_type": "code",
   "execution_count": 4,
   "id": "616df96d",
   "metadata": {},
   "outputs": [],
   "source": [
    "db_neg = np.array([\n",
    "    [1. - ALPHA, 0., 0.], \n",
    "    [0., 1. - ALPHA, 0.], \n",
    "    [0., 0., 1. - ALPHA]\n",
    "])\n",
    "db_pos = np.array([\n",
    "    [1. + ALPHA, 0., 0.], \n",
    "    [0., 1. + ALPHA, 0.], \n",
    "    [0., 0., 1. + ALPHA]\n",
    "])"
   ]
  },
  {
   "cell_type": "markdown",
   "id": "432b125c",
   "metadata": {},
   "source": [
    "$D_{C_{11}}(ALPHA)$"
   ]
  },
  {
   "cell_type": "code",
   "execution_count": 5,
   "id": "d5b0a1f6",
   "metadata": {},
   "outputs": [],
   "source": [
    "dc11_neg = np.array([\n",
    "    [1. - ALPHA, 0., 0.], \n",
    "    [0., 1., 0.], \n",
    "    [0., 0., 1.]\n",
    "])\n",
    "dc11_pos = np.array([\n",
    "    [1. + ALPHA, 0., 0.], \n",
    "    [0., 1., 0.], \n",
    "    [0., 0., 1.]\n",
    "])"
   ]
  },
  {
   "cell_type": "markdown",
   "id": "38e1a998",
   "metadata": {},
   "source": [
    "$D_{C_{22}}(ALPHA)$"
   ]
  },
  {
   "cell_type": "code",
   "execution_count": 6,
   "id": "4cfc0c01",
   "metadata": {},
   "outputs": [],
   "source": [
    "dc22_neg = np.array([\n",
    "    [1., 0., 0.], \n",
    "    [0., 1. - ALPHA, 0.], \n",
    "    [0., 0., 1.]\n",
    "])\n",
    "dc22_pos = np.array([\n",
    "    [1., 0., 0.], \n",
    "    [0., 1. + ALPHA, 0.], \n",
    "    [0., 0., 1.]\n",
    "])"
   ]
  },
  {
   "cell_type": "markdown",
   "id": "1532fc79",
   "metadata": {},
   "source": [
    "$D_{C_{33}}(ALPHA)$"
   ]
  },
  {
   "cell_type": "code",
   "execution_count": 7,
   "id": "bc981738",
   "metadata": {},
   "outputs": [],
   "source": [
    "dc33_neg = np.array([\n",
    "    [1., 0., 0.], \n",
    "    [0., 1., 0.], \n",
    "    [0., 0., 1. - ALPHA]\n",
    "])\n",
    "dc33_pos = np.array([\n",
    "    [1., 0., 0.], \n",
    "    [0., 1., 0.], \n",
    "    [0., 0., 1. + ALPHA]\n",
    "])"
   ]
  },
  {
   "cell_type": "markdown",
   "id": "1193088a",
   "metadata": {},
   "source": [
    "$D_{C_{44}}(ALPHA)$"
   ]
  },
  {
   "cell_type": "code",
   "execution_count": 8,
   "id": "8282a22d",
   "metadata": {},
   "outputs": [],
   "source": [
    "dc44_neg = np.array([\n",
    "    [1. / (1. - ALPHA * ALPHA) ** (1/3), 0., 0.], \n",
    "    [0., 1. / (1. - ALPHA * ALPHA) ** (1/3), ALPHA / (1 - ALPHA * ALPHA) ** (1/3)], \n",
    "    [0., ALPHA / (1. - ALPHA * ALPHA) ** (1/3), 1. / (1 - ALPHA * ALPHA) ** (1/3)]\n",
    "])\n",
    "dc44_pos = np.array([\n",
    "    [1. / (1.- ALPHA * ALPHA) ** (1/3), 0., 0.], \n",
    "    [0., 1. / (1. - ALPHA * ALPHA) ** (1/3), -ALPHA / (1. - ALPHA * ALPHA) ** (1/3)], \n",
    "    [0., -ALPHA / (1. - ALPHA * ALPHA) ** (1/3), 1. / (1. - ALPHA * ALPHA) ** (1/3)]\n",
    "])"
   ]
  },
  {
   "cell_type": "markdown",
   "id": "57b66c05",
   "metadata": {},
   "source": [
    "$D_{C_{55}}(ALPHA)$"
   ]
  },
  {
   "cell_type": "code",
   "execution_count": 9,
   "id": "b7537441",
   "metadata": {},
   "outputs": [],
   "source": [
    "dc55_neg = np.array([\n",
    "    [1. / (1 - ALPHA * ALPHA) ** (1/3), 0, ALPHA / (1 - ALPHA * ALPHA) ** (1/3)], \n",
    "    [0, 1. / (1 - ALPHA * ALPHA) ** (1/3), 0], \n",
    "    [ALPHA / (1 - ALPHA * ALPHA) ** (1/3), 0, 1. / (1 - ALPHA * ALPHA) ** (1/3)]\n",
    "])\n",
    "dc55_pos = np.array([\n",
    "    [1. / (1 - ALPHA * ALPHA) ** (1/3), 0, -ALPHA / (1 - ALPHA * ALPHA) ** (1/3)], \n",
    "    [0, 1. / (1 - ALPHA * ALPHA) ** (1/3), 0], \n",
    "    [-ALPHA / (1 - ALPHA * ALPHA) ** (1/3), 0, 1. / (1 - ALPHA * ALPHA) ** (1/3)]\n",
    "])"
   ]
  },
  {
   "cell_type": "markdown",
   "id": "5e2cd5e0",
   "metadata": {},
   "source": [
    "$D_{C_{66}}(ALPHA)$"
   ]
  },
  {
   "cell_type": "code",
   "execution_count": 10,
   "id": "3b5c5e1e",
   "metadata": {},
   "outputs": [],
   "source": [
    "dc66_neg = np.array([\n",
    "    [1. / (1 - ALPHA * ALPHA) ** (1/3),  ALPHA / (1 - ALPHA * ALPHA) ** (1/3), 0.], \n",
    "    [ ALPHA / (1 - ALPHA * ALPHA) ** (1/3), 1. / (1 - ALPHA * ALPHA) ** (1/3), 0.], \n",
    "    [0., 0., 1. / (1 - ALPHA * ALPHA) ** (1/3)]\n",
    "])\n",
    "dc66_pos = np.array([\n",
    "    [1. / (1 - ALPHA * ALPHA) ** (1/3),  -ALPHA / (1 - ALPHA * ALPHA) ** (1/3), 0.], \n",
    "    [ -ALPHA / (1 - ALPHA * ALPHA) ** (1/3), 1. / (1 - ALPHA * ALPHA) ** (1/3), 0.], \n",
    "    [0., 0., 1. / (1 - ALPHA * ALPHA) ** (1/3)]\n",
    "])"
   ]
  },
  {
   "cell_type": "markdown",
   "id": "53c656b5",
   "metadata": {},
   "source": [
    "$D_{C_{12}}(ALPHA)$"
   ]
  },
  {
   "cell_type": "code",
   "execution_count": 11,
   "id": "16845299",
   "metadata": {},
   "outputs": [],
   "source": [
    "dc12_neg = np.array([\n",
    "    [(1. + ALPHA) / (1 - ALPHA * ALPHA) ** (1/3), 0., 0.], \n",
    "    [0., (1. - ALPHA) / (1 - ALPHA * ALPHA) ** (1/3), 0.], \n",
    "    [0., 0., 1. / (1 - ALPHA * ALPHA) ** (1/3)]\n",
    "])\n",
    "dc12_pos = np.array([\n",
    "    [(1. - ALPHA) / (1. - ALPHA * ALPHA) ** (1/3), 0., 0.], \n",
    "    [0., (1. + ALPHA) / (1. - ALPHA * ALPHA) ** (1/3), 0.], \n",
    "    [0., 0., 1. / (1. - ALPHA * ALPHA) ** (1/3)]\n",
    "])"
   ]
  },
  {
   "cell_type": "markdown",
   "id": "45d8e46a",
   "metadata": {},
   "source": [
    "$D_{C_{13}}(ALPHA)$"
   ]
  },
  {
   "cell_type": "code",
   "execution_count": 12,
   "id": "5e524303",
   "metadata": {},
   "outputs": [],
   "source": [
    "dc13_neg = np.array([\n",
    "    [(1. + ALPHA) / (1 - ALPHA * ALPHA) ** (1/3), 0., 0.], \n",
    "    [0., 1. / (1 - ALPHA * ALPHA) ** (1/3), 0.], \n",
    "    [0., 0., (1. - ALPHA) / (1 - ALPHA * ALPHA) ** (1/3)]\n",
    "])\n",
    "dc13_pos = np.array([\n",
    "    [(1. - ALPHA) / (1. - ALPHA * ALPHA) ** (1/3), 0., 0.], \n",
    "    [0., 1. / (1. - ALPHA * ALPHA) ** (1/3), 0.], \n",
    "    [0., 0., (1. + ALPHA) / (1. - ALPHA * ALPHA) ** (1/3)]\n",
    "])"
   ]
  },
  {
   "cell_type": "markdown",
   "id": "98ba9941",
   "metadata": {},
   "source": [
    "$D_{C_{23}}(ALPHA)$"
   ]
  },
  {
   "cell_type": "code",
   "execution_count": 13,
   "id": "58f10b0a",
   "metadata": {},
   "outputs": [],
   "source": [
    "dc23_neg = np.array([\n",
    "    [1. / (1 - ALPHA * ALPHA) ** (1/3), 0., 0.], \n",
    "    [0., (1. + ALPHA) / (1 - ALPHA * ALPHA) ** (1/3), 0.], \n",
    "    [0., 0., (1. - ALPHA) / (1 - ALPHA * ALPHA) ** (1/3)]\n",
    "])\n",
    "dc23_pos = np.array([\n",
    "    [1. / (1. - ALPHA * ALPHA) ** (1/3), 0., 0.], \n",
    "    [0., (1. - ALPHA) / (1. - ALPHA * ALPHA) ** (1/3), 0.], \n",
    "    [0., 0., (1. + ALPHA) / (1. - ALPHA * ALPHA) ** (1/3)]\n",
    "])"
   ]
  },
  {
   "cell_type": "code",
   "execution_count": 14,
   "id": "f6432828",
   "metadata": {},
   "outputs": [],
   "source": [
    "def generate_struct(m, name):\n",
    "    struct = f\"\"\"\n",
    "&control\n",
    "  calculation = 'scf'\n",
    "  prefix = 'base'\n",
    "  pseudo_dir = 'sssp'\n",
    "  outdir = 'out'\n",
    "/\n",
    "&system\n",
    "  ibrav = 0\n",
    "  A = 5.52236653476\n",
    "  nat = 1\n",
    "  ntyp = 1\n",
    "  ecutwfc = 80\n",
    "  ecutrho = 640\n",
    "  occupations = 'smearing'\n",
    "  smearing = 'cold'\n",
    "  degauss = 0.02\n",
    "/\n",
    "&electrons\n",
    "  conv_thr = 1.d-8\n",
    "/\n",
    "ATOMIC_SPECIES\n",
    "  Ca 40.078 Ca_pbe_v1.uspp.F.UPF\n",
    "ATOMIC_POSITIONS crystal\n",
    "  Ca 0.0 0.0 0.0\n",
    "K_POINTS automatic\n",
    "  9 9 9 0 0 0\n",
    "CELL_PARAMETERS alat\n",
    "  {m[0,0]} {m[0,1]} {m[0,2]}\n",
    "  {m[1,0]} {m[1,1]} {m[1,2]}\n",
    "  {m[2,0]} {m[2,1]} {m[2,2]}\n",
    "\"\"\"\n",
    "    with open(f\"{name}\", \"w\") as f:\n",
    "        f.write(struct)"
   ]
  },
  {
   "cell_type": "code",
   "execution_count": 15,
   "id": "97fe7cd6",
   "metadata": {},
   "outputs": [],
   "source": [
    "def calculate_energy(matrix, file_name):\n",
    "    generate_struct(matrix, file_name)\n",
    "    result = !pw.x -in {file_name}\n",
    "    energy = float([line for line in result if line.startswith('!')][0].split()[4]) * 13.6056980659\n",
    "    return energy"
   ]
  },
  {
   "cell_type": "code",
   "execution_count": 16,
   "id": "065a5276",
   "metadata": {},
   "outputs": [
    {
     "name": "stdout",
     "output_type": "stream",
     "text": [
      "Start:\n",
      "B\n",
      "C11\n",
      "C22\n",
      "C33\n",
      "C44\n",
      "C55\n",
      "C66\n",
      "C12\n",
      "C13\n",
      "C23\n",
      "Finish!\n"
     ]
    }
   ],
   "source": [
    "print(\"Start:\")\n",
    "energy = calculate_energy(basis, 'sample.in')\n",
    "print(\"B\")\n",
    "energy_bneg = calculate_energy(basis @ db_neg, 'b_neg_sample.in')\n",
    "energy_bpos = calculate_energy(basis @ db_pos, 'b_pos_sample.in')\n",
    "print(\"C11\")\n",
    "energy_c11neg = calculate_energy(basis @ dc11_neg, 'c11_neg_sample.in')\n",
    "energy_c11pos = calculate_energy(basis @ dc11_pos, 'c11_pos_sample.in')\n",
    "print(\"C22\")\n",
    "energy_c22neg = calculate_energy(basis @ dc22_neg, 'c22_neg_sample.in')\n",
    "energy_c22pos = calculate_energy(basis @ dc22_pos, 'c22_pos_sample.in')\n",
    "print(\"C33\")\n",
    "energy_c33neg = calculate_energy(basis @ dc33_neg, 'c33_neg_sample.in')\n",
    "energy_c33pos = calculate_energy(basis @ dc33_pos, 'c33_pos_sample.in')\n",
    "print(\"C44\")\n",
    "energy_c44neg = calculate_energy(basis @ dc44_neg, 'c44_neg_sample.in')\n",
    "energy_c44pos = calculate_energy(basis @ dc44_pos, 'c44_pos_sample.in')\n",
    "print(\"C55\")\n",
    "energy_c55neg = calculate_energy(basis @ dc55_neg, 'c55_neg_sample.in')\n",
    "energy_c55pos = calculate_energy(basis @ dc55_pos, 'c55_pos_sample.in')\n",
    "print(\"C66\")\n",
    "energy_c66neg = calculate_energy(basis @ dc66_neg, 'c66_neg_sample.in')\n",
    "energy_c66pos = calculate_energy(basis @ dc66_pos, 'c66_pos_sample.in')\n",
    "print(\"C12\")\n",
    "energy_c12neg = calculate_energy(basis @ dc12_neg, 'c12_neg_sample.in')\n",
    "energy_c12pos = calculate_energy(basis @ dc12_pos, 'c12_pos_sample.in')\n",
    "print(\"C13\")\n",
    "energy_c13neg = calculate_energy(basis @ dc13_neg, 'c13_neg_sample.in')\n",
    "energy_c13pos = calculate_energy(basis @ dc13_pos, 'c13_pos_sample.in')\n",
    "print(\"C23\")\n",
    "energy_c23neg = calculate_energy(basis @ dc23_neg, 'c23_neg_sample.in')\n",
    "energy_c23pos = calculate_energy(basis @ dc23_pos, 'c23_pos_sample.in')\n",
    "print(\"Finish!\")"
   ]
  },
  {
   "cell_type": "code",
   "execution_count": 17,
   "id": "878bac9a",
   "metadata": {},
   "outputs": [],
   "source": [
    "B = 160.2 * (energy_bneg - 2 * energy + energy_bpos) / (ALPHA ** 2 * 9 * volume) \n",
    "C11 = 160.2 * (energy_c11neg - 2 * energy + energy_c11pos) / (ALPHA ** 2  * volume)\n",
    "C22 = 160.2 * (energy_c22neg - 2 * energy + energy_c22pos) / (ALPHA ** 2  * volume)\n",
    "C33 = 160.2 * (energy_c33neg - 2 * energy + energy_c33pos) / (ALPHA ** 2  * volume)\n",
    "C44 = 160.2 * (energy_c44neg - 2 * energy + energy_c44pos) / (ALPHA ** 2  * volume * 4)\n",
    "C55 = 160.2 * (energy_c55neg - 2 * energy + energy_c55pos) / (ALPHA ** 2  * volume * 4)\n",
    "C66 = 160.2 * (energy_c66neg - 2 * energy + energy_c66pos) / (ALPHA ** 2  * volume * 4)\n",
    "C12 = 160.2 * (energy_c11neg + energy_c11pos + energy_c22neg + energy_c22pos - 2 * energy - energy_c12neg - energy_c12pos) / (ALPHA ** 2  * volume * 2)\n",
    "C13 = 160.2 * (energy_c11neg + energy_c11pos + energy_c33neg + energy_c33pos - 2 * energy - energy_c13neg - energy_c13pos) / (ALPHA ** 2  * volume * 2)\n",
    "C23 = 160.2 * (energy_c22neg + energy_c22pos + energy_c33neg + energy_c33pos - 2 * energy - energy_c23neg - energy_c23pos) / (ALPHA ** 2  * volume * 2)"
   ]
  },
  {
   "cell_type": "code",
   "execution_count": 18,
   "id": "404886e7",
   "metadata": {},
   "outputs": [
    {
     "name": "stdout",
     "output_type": "stream",
     "text": [
      "B:\t17.4409\n",
      "C11:\t21.6031\n",
      "C22:\t21.6031\n",
      "C33:\t21.6031\n",
      "C44:\t14.0707\n",
      "C55:\t14.0707\n",
      "C66:\t14.0707\n",
      "C12:\t15.3701\n",
      "C13:\t15.3701\n",
      "C23:\t15.3701\n"
     ]
    }
   ],
   "source": [
    "print(f\"B:\\t%.4f\" % B)\n",
    "print(f\"C11:\\t%.4f\" % C11)\n",
    "print(f\"C22:\\t%.4f\" % C22)\n",
    "print(f\"C33:\\t%.4f\" % C33)\n",
    "print(f\"C44:\\t%.4f\" % C44)\n",
    "print(f\"C55:\\t%.4f\" % C55)\n",
    "print(f\"C66:\\t%.4f\" % C66)\n",
    "print(f\"C12:\\t%.4f\" % C12)\n",
    "print(f\"C13:\\t%.4f\" % C13)\n",
    "print(f\"C23:\\t%.4f\" % C23)"
   ]
  }
 ],
 "metadata": {
  "kernelspec": {
   "display_name": "Python 3 (ipykernel)",
   "language": "python",
   "name": "python3"
  },
  "language_info": {
   "codemirror_mode": {
    "name": "ipython",
    "version": 3
   },
   "file_extension": ".py",
   "mimetype": "text/x-python",
   "name": "python",
   "nbconvert_exporter": "python",
   "pygments_lexer": "ipython3",
   "version": "3.9.7"
  }
 },
 "nbformat": 4,
 "nbformat_minor": 5
}
